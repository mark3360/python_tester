{
 "cells": [
  {
   "cell_type": "markdown",
   "id": "6790e951",
   "metadata": {},
   "source": [
    " # Assignment 5"
   ]
  },
  {
   "cell_type": "code",
   "execution_count": 1,
   "id": "17ebac5d",
   "metadata": {},
   "outputs": [],
   "source": [
    "import pandas as pd # Do not change these imports\n",
    "import numpy as np\n",
    "import math"
   ]
  },
  {
   "cell_type": "markdown",
   "id": "bb595bbc",
   "metadata": {},
   "source": [
    "### Part A"
   ]
  },
  {
   "cell_type": "code",
   "execution_count": 2,
   "id": "a744bc4a",
   "metadata": {},
   "outputs": [
    {
     "data": {
      "text/plain": [
       "{'Number of Shares': 250000,\n",
       " 'Price Per Share': 60,\n",
       " 'Debt': 310000,\n",
       " 'Excess Cash': 1000000,\n",
       " 'FCF': 500000,\n",
       " 'High Growth Rate': 0.1,\n",
       " 'rwacc': 0.09,\n",
       " 're': 0.11}"
      ]
     },
     "execution_count": 2,
     "metadata": {},
     "output_type": "execute_result"
    }
   ],
   "source": [
    "data = {\"Number of Shares\" : 250000,\n",
    "        \"Price Per Share\" : 60,\n",
    "        \"Debt\" : 310000,\n",
    "        \"Excess Cash\" : 1000000,\n",
    "        \"FCF\" : 500000,\n",
    "        \"High Growth Rate\" : 0.1,\n",
    "        \"rwacc\": 0.09,\n",
    "        \"re\" : 0.11}\n",
    "data"
   ]
  },
  {
   "cell_type": "markdown",
   "id": "e44161ce",
   "metadata": {},
   "source": [
    "IDX is a privately held firm. You are considering making an offer to acquire the equity\n",
    "of IDX. You have been informed that the founder of IDX is willing to sell all of the firm’s\n",
    "shares (`Number of Shares`) for a price of `Price Per Share` per share. You are evaluating whether this is a fair price.\n",
    "\n",
    "IDX currently has debt of `Debt` and excess cash of `Excess Cash`. You have estimated that\n",
    "the firm will have free cash flows of `FCF` one year from today, and that this amount will\n",
    "grow by `High Growth Rate` per year over the following three years (i.e. during years 2-4). You have also\n",
    "calculated that IDX has a weighted average cost of capital of `rwacc` and a cost of equity capital\n",
    "of `re`. In addition, you expect the future free cash flows for IDX beyond year 4 to grow at\n",
    "a constant long run annual growth rate. What long run annual growth rate in free cash flows\n",
    "would be consistent with a share price of `Price Per Share` today?\n",
    "\n",
    "Write the function ```growth_rate```, which calculates the long run annual growth rate in the situation described above. This function takes in a dictionary `data`, formatted as above."
   ]
  },
  {
   "cell_type": "code",
   "execution_count": 3,
   "id": "3ffc9707",
   "metadata": {},
   "outputs": [],
   "source": [
    "def growth_rate(data):\n",
    "    # Write your code here\n",
    "    rwacc = data['rwacc']\n",
    "    h_growth_rate = data['High Growth Rate']\n",
    "    \n",
    "    zero_val = data['Number of Shares']*data['Price Per Share'] + data['Debt'] - data['Excess Cash']\n",
    "    \n",
    "    # Using the v_n = (FCF_{n + 1}/(r_{wacc} - g_{FCF})) formula to find the growth rate g_{FCF}\n",
    "    PV_free_cash = (data['FCF']/(rwacc - h_growth_rate))*(1 - pow(((1 + h_growth_rate)/(1 + rwacc)), 3))\n",
    "    PV_cont_value = zero_val - PV_free_cash\n",
    "    FV_3_cont_val = PV_cont_value * pow(1 + rwacc, 3)\n",
    "    FCF_n1 = data['FCF'] * pow(1 + h_growth_rate, 3)\n",
    "    \n",
    "    # Now calculate growth rate:\n",
    "    growth_r = rwacc - FCF_n1/FV_3_cont_val\n",
    "    \n",
    "    return growth_r"
   ]
  },
  {
   "cell_type": "code",
   "execution_count": 4,
   "id": "a1e818a0-9387-44e4-a9e2-ea7d5d06da4a",
   "metadata": {},
   "outputs": [
    {
     "data": {
      "text/plain": [
       "0.05022904006781028"
      ]
     },
     "execution_count": 4,
     "metadata": {},
     "output_type": "execute_result"
    }
   ],
   "source": [
    "growth_rate(data)"
   ]
  },
  {
   "cell_type": "markdown",
   "id": "150451a7",
   "metadata": {},
   "source": [
    "### Part B"
   ]
  },
  {
   "cell_type": "markdown",
   "id": "cbfaa486",
   "metadata": {},
   "source": [
    "We first need to clean up the data. For the sake of this assignment, you are provided the function ```aggregate```. However, data cleaning is the first step of any financial data analytics and thus you need to conceptually understand what is written in the function below. \n",
    "\n",
    "The function aggregates the supplied data to annual frequency. This function will take a  string that represents a file path to a csv file formatted like the one supplied. ```aggregate``` will output a DataFrame formatted like the one supplied. \n",
    "\n",
    "First, it removes all rows where ```PRC``` is 0, and where ```DIVAMT``` is 0. It is fine if after removing these rows, your aggregated DataFrame \"skips\" certain years.\n",
    "\n",
    "Then, for each unique year in each CUSIP, the function adds a row to the ```output``` DataFrame. The ```CUSIP``` entry represents the CUSIP of the security, the ```Year``` entry represents which year was aggregated, the ```Dividends``` entry represents the total amount of dividends paid during the year, and the ```Price``` column represents the price of the security at the last available month of the year.\n",
    "\n",
    "Note that the ```Dividends``` column only contains dividends paid during that year. For example, if the first available month of a certain security happens to be November 1990, then the 1990 row will only contain dividends paid in November and December of 1990.\n",
    "    \n",
    "Finally, the function removes all securities where there is only one year's data for dividends paid. \n",
    "\n"
   ]
  },
  {
   "cell_type": "code",
   "execution_count": 5,
   "id": "52b4a31e",
   "metadata": {},
   "outputs": [],
   "source": [
    "def aggregate(path):\n",
    "    df = pd.read_csv(path) # Do not change this line of code\n",
    "    \n",
    "    # Drop Unneccesary columns\n",
    "    df.drop(['PERMNO', 'COMNAM'], axis=1, inplace = True)\n",
    "    \n",
    "    # Replace all NaN values with 0\n",
    "    df = df.fillna(0)\n",
    "    \n",
    "    # Negative is used to represent something else in the data, so abs will remove the negative\n",
    "    df['PRC'] = abs(df['PRC'])\n",
    "    \n",
    "    # Filter out rows where price is zero or DIVAMT is zero\n",
    "    df = df.loc[df[\"PRC\"] != 0]\n",
    "    df = df.loc[df[\"DIVAMT\"] != 0]\n",
    "    \n",
    "    # Replace date\n",
    "    df[\"date\"] = df[\"date\"].str.slice(stop = 4)\n",
    "    \n",
    "    groups = df.groupby([\"CUSIP\", \"date\"], group_keys = False)\n",
    "    \n",
    "\n",
    "    price =  groups[\"PRC\"].agg(\"last\")\n",
    "    divs = list(groups[\"DIVAMT\"].sum())\n",
    "    cusips = list(price.index.get_level_values(0))\n",
    "    year = list(price.index.get_level_values(1))\n",
    "    price = list(price)\n",
    "    \n",
    "    \n",
    "    output = pd.DataFrame(data = {\n",
    "        \"CUSIP\" : cusips,\n",
    "        \"Year\" : year,\n",
    "        \"Dividends\" : divs,\n",
    "        \"Price\" : price\n",
    "    })\n",
    "    \n",
    "    \n",
    "    # filter singletons\n",
    "    groups = output.groupby([\"CUSIP\"], group_keys = False)\n",
    "    filtered = groups.filter(lambda x: len(x) != 1).reset_index().drop(['index'], axis = 1)\n",
    "    \n",
    "    return filtered"
   ]
  },
  {
   "cell_type": "markdown",
   "id": "f22d3684",
   "metadata": {},
   "source": [
    "Now that we have aggregated the data to annual frequency, we consider which percentage of securities are overvalued by the Dividend Discount Model. Write the function ```overvalued```, which takes in a DataFrame ```annual_data``` (this is the output of ```aggregate```). With this annual data:\n",
    "\n",
    "1)\tUsing annual dividends, for each security (identified by CUSIP), calculate the annual dividend growth. Even though some years may be \"skipped\" in the above data due to 0 dividends, **treat them as if they were consecutive years** in your calculations. For example, if you found that the security returned a dividend of 1 dollar in 1990, and 1.2 dollars in 1992, you should calculate the dividend growth in 1992 to be 20\\%.\n",
    "\n",
    "2) You can calculate the average dividend growth of each security by taking the average of each security's annual dividend growth.\n",
    "\n",
    "3)\tYou can similarly calculate the equity cost of capital by calculating the annual equity cost of capital (including the dividend), and taking the average. Note that in this step and the previous, these calculations will never fail to produce a number, since we have filtered out all cases where the Dividends/Stock Price are 0, and all securities contain at least 2 entries.\n",
    "\n",
    "4)\tUse “Dividend discount model (constant growth model)” to calculate the price on that security’s last available date.\n",
    "\n",
    "5)\tCompare model-implied price with actual price.\n",
    "\n",
    "You may find the ```groupby``` method for DataFrames helpful in this question."
   ]
  },
  {
   "cell_type": "code",
   "execution_count": 6,
   "id": "5785815e",
   "metadata": {},
   "outputs": [],
   "source": [
    "def overvalued(annual_data):\n",
    "    # Write your code here\n",
    "    # Group elements based on 'CUSIP' value\n",
    "    grouped = annual_data.groupby(['CUSIP'])\n",
    "\n",
    "    avg_dividend_growth = []\n",
    "    avg_re = []\n",
    "    for group_name, group_data in grouped:\n",
    "        \n",
    "        # Finding the dividend growth\n",
    "        df = group_data['Dividends'].pct_change()\n",
    "        avg_dividend_growth.append(df.mean())\n",
    "\n",
    "        # Finding the equity cost of capital\n",
    "        # Annual cost of capital:\n",
    "        in_count = 0\n",
    "        group_re = []\n",
    "        for in_count in range(len(group_data)):\n",
    "\n",
    "        # Finding the annual cost of capital only starting from the second year\n",
    "            if in_count > 0 and in_count < len(group_data):\n",
    "                re = ((group_data.iloc[in_count]['Dividends'] + group_data.iloc[in_count]['Price'] - group_data.iloc[in_count -1]['Price'])/group_data.iloc[in_count -1]['Price'])\n",
    "                group_re.append(re)\n",
    "            \n",
    "        # Find the average return on equity\n",
    "        avg_re.append(np.mean(group_re))\n",
    "\n",
    "    # Using the avg_re and avg_dividend_growth values, we can find the estimated value by doing: (Dividend 1 * dividend growth rate)/(equity cost of capital - growth rate)\n",
    "    \n",
    "    count = 0\n",
    "    overpriced_count = 0\n",
    "    for group_name, group_data in grouped:\n",
    "        length = len(group_data) - 1\n",
    "        if (avg_re[count] - avg_dividend_growth[count] == 0):\n",
    "            # if the discount rate is equal to the growth rate, then the model prediction predicts infinite value -> overpriced\n",
    "            overpriced_count += 1\n",
    "            count+= 1\n",
    "            continue;\n",
    "        # Get the price\n",
    "        expected_price = ((group_data.iloc[length]['Dividends'] * (1 + avg_dividend_growth[count]))/(avg_re[count] - avg_dividend_growth[count]))\n",
    "        \n",
    "        # If the expected price is less than zero, then geometric series to calculate the price diverges and model predicts an infinite price, automatically making \n",
    "        # the model overvalued.\n",
    "        if (expected_price < 0 or group_data.iloc[length]['Price'] < expected_price ):\n",
    "            overpriced_count += 1\n",
    "        count+= 1\n",
    "    \n",
    "    return overpriced_count/count"
   ]
  },
  {
   "cell_type": "code",
   "execution_count": 7,
   "id": "47f5eba1-03b7-4086-a2ff-686ac326d142",
   "metadata": {},
   "outputs": [],
   "source": [
    "# filtered = aggregate('monthlycrsp.csv')"
   ]
  },
  {
   "cell_type": "code",
   "execution_count": 8,
   "id": "56414a5e-33ea-4ee0-b595-cb8d7f62205f",
   "metadata": {},
   "outputs": [
    {
     "name": "stdout",
     "output_type": "stream",
     "text": [
      "0.63488\n"
     ]
    }
   ],
   "source": [
    "print(overvalued(filtered))"
   ]
  },
  {
   "cell_type": "code",
   "execution_count": null,
   "id": "ea97ebe1-ee4d-4c3a-a51b-ad8bb7f8cfd2",
   "metadata": {},
   "outputs": [],
   "source": []
  }
 ],
 "metadata": {
  "kernelspec": {
   "display_name": "Python 3 (ipykernel)",
   "language": "python",
   "name": "python3"
  },
  "language_info": {
   "codemirror_mode": {
    "name": "ipython",
    "version": 3
   },
   "file_extension": ".py",
   "mimetype": "text/x-python",
   "name": "python",
   "nbconvert_exporter": "python",
   "pygments_lexer": "ipython3",
   "version": "3.9.12"
  }
 },
 "nbformat": 4,
 "nbformat_minor": 5
}
